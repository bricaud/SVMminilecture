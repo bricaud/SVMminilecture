{
 "cells": [
  {
   "cell_type": "markdown",
   "metadata": {},
   "source": [
    "# Support Vector Machines exercise session\n",
    "This code allow you to explore the SVM in practice."
   ]
  },
  {
   "cell_type": "code",
   "execution_count": null,
   "metadata": {},
   "outputs": [],
   "source": [
    "# Import the modules\n",
    "import numpy as np\n",
    "import matplotlib.pyplot as plt\n",
    "from sklearn import svm\n",
    "from sklearn.linear_model import SGDClassifier\n",
    "from sklearn.datasets import make_blobs"
   ]
  },
  {
   "cell_type": "markdown",
   "metadata": {},
   "source": [
    "## Data"
   ]
  },
  {
   "cell_type": "code",
   "execution_count": null,
   "metadata": {},
   "outputs": [],
   "source": [
    "# we generate artificial data, create 50 separable points, 2 classes\n",
    "X, Y = make_blobs(n_samples=50, n_features=2, centers=2, random_state=0, cluster_std=0.60)\n",
    "limits = {}\n",
    "limits['x_min'], limits['y_min'] = np.min(X,axis=0)\n",
    "limits['x_max'], limits['y_max'] = np.max(X, axis=0)\n",
    "\n",
    "plt.figure()\n",
    "plt.scatter(X[:, 0], X[:, 1], c=Y, cmap=plt.cm.Paired, edgecolor='black', s=20)\n",
    "plt.title('Dataset')\n",
    "plt.axis('tight')\n",
    "plt.show()"
   ]
  },
  {
   "cell_type": "markdown",
   "metadata": {},
   "source": [
    "## SVM\n",
    "Ready-to-use SVM for classification"
   ]
  },
  {
   "cell_type": "code",
   "execution_count": null,
   "metadata": {},
   "outputs": [],
   "source": [
    "def visualize_margin(model,limits):\n",
    "    # plot the hyperplane and the margin\n",
    "    # make a grid and evaluate its points\n",
    "    xx = np.linspace(limits['x_min'], limits['x_max'], 10)\n",
    "    yy = np.linspace(limits['y_min'], limits['y_max'], 10)\n",
    "    X1, X2 = np.meshgrid(xx, yy)\n",
    "    Z = np.empty(X1.shape)\n",
    "    for (i, j), val in np.ndenumerate(X1):\n",
    "        x1 = val\n",
    "        x2 = X2[i, j]\n",
    "        p = model.decision_function([[x1, x2]])\n",
    "        Z[i, j] = p[0]\n",
    "    levels = [-1.0, 0.0, 1.0]\n",
    "    linestyles = ['dashed', 'solid', 'dashed']\n",
    "    colors = 'k'\n",
    "    plt.contour(X1, X2, Z, levels, colors=colors, linestyles=linestyles)"
   ]
  },
  {
   "cell_type": "code",
   "execution_count": null,
   "metadata": {},
   "outputs": [],
   "source": [
    "\n",
    "# fit the model\n",
    "SVMmodel = svm.SVC(kernel='linear')\n",
    "SVMmodel.fit(X, Y)\n",
    "\n",
    "# show data points\n",
    "plt.figure()\n",
    "plt.scatter(X[:, 0], X[:, 1], c=Y, cmap=plt.cm.Paired,\n",
    "            edgecolor='black', s=20)\n",
    "\n",
    "visualize_margin(SVMmodel, limits)\n",
    "\n",
    "plt.axis('tight')\n",
    "plt.show()\n"
   ]
  },
  {
   "cell_type": "code",
   "execution_count": null,
   "metadata": {},
   "outputs": [],
   "source": [
    "\n",
    "# fit the model\n",
    "SVMmodelSGD = SGDClassifier(loss=\"hinge\", alpha=0.01, max_iter=10000, n_iter_no_change=1000)\n",
    "\n",
    "SVMmodelSGD.fit(X, Y)\n",
    "\n",
    "# show data points\n",
    "plt.figure()\n",
    "plt.scatter(X[:, 0], X[:, 1], c=Y, cmap=plt.cm.Paired,\n",
    "            edgecolor='black', s=20)\n",
    "\n",
    "visualize_margin(SVMmodelSGD, limits)\n",
    "\n",
    "plt.axis('tight')\n",
    "plt.show()\n"
   ]
  },
  {
   "cell_type": "code",
   "execution_count": null,
   "metadata": {},
   "outputs": [],
   "source": [
    "\n",
    "# fit the model\n",
    "#clf = SGDClassifier(loss=\"perceptron\", alpha=0.02, max_iter=10000, n_iter_no_change=1000)\n",
    "perceptron_model = SGDClassifier(loss=\"perceptron\", eta0=1, learning_rate=\"constant\", penalty=None)\n",
    "# according to https://scikit-learn.org/stable/modules/generated/sklearn.linear_model.SGDClassifier.html\n",
    "# There exists as well a perceptron function: sklearn.linear_model.Perceptron\n",
    "\n",
    "perceptron_model.fit(X, Y)\n",
    "\n",
    "# show data points\n",
    "plt.figure()\n",
    "plt.scatter(X[:, 0], X[:, 1], c=Y, cmap=plt.cm.Paired,\n",
    "            edgecolor='black', s=20)\n",
    "\n",
    "visualize_margin(perceptron_model, limits)\n",
    "\n",
    "plt.axis('tight')\n",
    "plt.show()\n",
    "\n"
   ]
  },
  {
   "cell_type": "markdown",
   "metadata": {},
   "source": [
    "## Exercise 1\n",
    "Plot the data and the SVM hyperplane. Use the the coefficients and intercept given by the model."
   ]
  },
  {
   "cell_type": "code",
   "execution_count": null,
   "metadata": {},
   "outputs": [],
   "source": [
    "# Solution exercise 1\n",
    "plt.figure()\n",
    "plt.scatter(X[:, 0], X[:, 1], c=Y, cmap=plt.cm.Paired,\n",
    "            edgecolor='black', s=20)\n",
    "xx = np.linspace(limits['x_min'], limits['x_max'], 10)\n",
    "yhyperplane = - (SVMmodel.coef_[0][0]*xx + SVMmodel.intercept_) / SVMmodel.coef_[0][1]\n",
    "plt.plot(xx,yhyperplane)\n",
    "plt.show()"
   ]
  },
  {
   "cell_type": "markdown",
   "metadata": {},
   "source": [
    "## Exercise 2\n",
    "Perturb the datapoints with additive Gaussian noise (mean 0 and variance 1) and show how they are classified according to their position."
   ]
  },
  {
   "cell_type": "code",
   "execution_count": null,
   "metadata": {},
   "outputs": [],
   "source": [
    "# Solution exercice 2\n",
    "noise = np.random.randn(*X.shape)\n",
    "Xnew = X + noise\n",
    "ypred = SVMmodel.predict(Xnew)\n",
    "\n",
    "plt.scatter(X[:, 0], X[:, 1], c=Y, cmap=plt.cm.Paired,\n",
    "            edgecolor='black', s=20)\n",
    "plt.scatter(Xnew[:, 0], Xnew[:, 1], c=ypred, cmap=plt.cm.Paired,\n",
    "            edgecolor='black', s=20)\n",
    "\n",
    "xx = np.linspace(limits['x_min'], limits['x_max'], 10)\n",
    "yhyperplane = - (SVMmodel.coef_[0][0]*xx + SVMmodel.intercept_) / SVMmodel.coef_[0][1]\n",
    "plt.plot(xx,yhyperplane)\n",
    "plt.show()\n"
   ]
  },
  {
   "cell_type": "markdown",
   "metadata": {},
   "source": [
    "## Exercise 3\n",
    "Create a new dataset with overlapping classes. Train an SVM and a perceptron. Display the results. Evaluate the accuracy."
   ]
  },
  {
   "cell_type": "code",
   "execution_count": null,
   "metadata": {},
   "outputs": [],
   "source": [
    "# Solution exercise 3\n",
    "# we generate artificial data, create 50 separable points, 2 classes\n",
    "# std deviation has been increased\n",
    "X, Y = make_blobs(n_samples=50, n_features=2, centers=2, random_state=0, cluster_std=1.60)\n",
    "limits = {}\n",
    "limits['x_min'], limits['y_min'] = np.min(X,axis=0)\n",
    "limits['x_max'], limits['y_max'] = np.max(X, axis=0)\n",
    "\n",
    "plt.figure()\n",
    "plt.scatter(X[:, 0], X[:, 1], c=Y, cmap=plt.cm.Paired, edgecolor='black', s=20)\n",
    "plt.title('Dataset')\n",
    "plt.axis('tight')\n",
    "plt.show()"
   ]
  },
  {
   "cell_type": "code",
   "execution_count": null,
   "metadata": {},
   "outputs": [],
   "source": [
    "# Solution exercise 3\n",
    "# fit the model\n",
    "SVMmodel = svm.SVC(kernel='linear')\n",
    "SVMmodel.fit(X, Y)\n",
    "\n",
    "# show data points\n",
    "plt.figure()\n",
    "plt.scatter(X[:, 0], X[:, 1], c=Y, cmap=plt.cm.Paired,\n",
    "            edgecolor='black', s=20)\n",
    "\n",
    "visualize_margin(SVMmodel, limits)\n",
    "\n",
    "plt.axis('tight')\n",
    "plt.show()\n"
   ]
  },
  {
   "cell_type": "code",
   "execution_count": null,
   "metadata": {},
   "outputs": [],
   "source": [
    "# Solution exercise 3\n",
    "perceptron_model = SGDClassifier(loss=\"perceptron\", eta0=1, learning_rate=\"constant\", penalty=None)\n",
    "perceptron_model.fit(X, Y)\n",
    "\n",
    "# show data points\n",
    "plt.figure()\n",
    "plt.scatter(X[:, 0], X[:, 1], c=Y, cmap=plt.cm.Paired,\n",
    "            edgecolor='black', s=20)\n",
    "\n",
    "visualize_margin(perceptron_model, limits)\n",
    "\n",
    "plt.axis('tight')\n",
    "plt.show()\n",
    "\n"
   ]
  },
  {
   "cell_type": "code",
   "execution_count": null,
   "metadata": {},
   "outputs": [],
   "source": []
  }
 ],
 "metadata": {
  "kernelspec": {
   "display_name": "Python 3",
   "language": "python",
   "name": "python3"
  },
  "language_info": {
   "codemirror_mode": {
    "name": "ipython",
    "version": 3
   },
   "file_extension": ".py",
   "mimetype": "text/x-python",
   "name": "python",
   "nbconvert_exporter": "python",
   "pygments_lexer": "ipython3",
   "version": "3.6.9"
  }
 },
 "nbformat": 4,
 "nbformat_minor": 2
}
